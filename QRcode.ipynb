{
  "nbformat": 4,
  "nbformat_minor": 0,
  "metadata": {
    "colab": {
      "provenance": [],
      "toc_visible": true,
      "authorship_tag": "ABX9TyOb8rpLNrHiNB8nNMBym5JU",
      "include_colab_link": true
    },
    "kernelspec": {
      "name": "python3",
      "display_name": "Python 3"
    },
    "language_info": {
      "name": "python"
    }
  },
  "cells": [
    {
      "cell_type": "markdown",
      "metadata": {
        "id": "view-in-github",
        "colab_type": "text"
      },
      "source": [
        "<a href=\"https://colab.research.google.com/github/yohannBernard411/QRcodeGenerator/blob/main/QRcode.ipynb\" target=\"_parent\"><img src=\"https://colab.research.google.com/assets/colab-badge.svg\" alt=\"Open In Colab\"/></a>"
      ]
    },
    {
      "cell_type": "markdown",
      "source": [
        "Instalation des librairies"
      ],
      "metadata": {
        "id": "C6puWh5nf1ex"
      }
    },
    {
      "cell_type": "code",
      "source": [
        "pip install pandas"
      ],
      "metadata": {
        "colab": {
          "base_uri": "https://localhost:8080/"
        },
        "id": "ldGEfFcqf_6o",
        "outputId": "080065b8-a858-4a75-fd78-0a1be9bb6f26"
      },
      "execution_count": null,
      "outputs": [
        {
          "output_type": "stream",
          "name": "stdout",
          "text": [
            "Requirement already satisfied: pandas in /usr/local/lib/python3.10/dist-packages (1.5.3)\n",
            "Requirement already satisfied: python-dateutil>=2.8.1 in /usr/local/lib/python3.10/dist-packages (from pandas) (2.8.2)\n",
            "Requirement already satisfied: pytz>=2020.1 in /usr/local/lib/python3.10/dist-packages (from pandas) (2023.3.post1)\n",
            "Requirement already satisfied: numpy>=1.21.0 in /usr/local/lib/python3.10/dist-packages (from pandas) (1.23.5)\n",
            "Requirement already satisfied: six>=1.5 in /usr/local/lib/python3.10/dist-packages (from python-dateutil>=2.8.1->pandas) (1.16.0)\n"
          ]
        }
      ]
    },
    {
      "cell_type": "code",
      "source": [
        "pip install requests"
      ],
      "metadata": {
        "colab": {
          "base_uri": "https://localhost:8080/"
        },
        "id": "FB0meB29gE0k",
        "outputId": "f31ed388-fe3e-454f-c31d-7320b6074bb6"
      },
      "execution_count": null,
      "outputs": [
        {
          "output_type": "stream",
          "name": "stdout",
          "text": [
            "Requirement already satisfied: requests in /usr/local/lib/python3.10/dist-packages (2.31.0)\n",
            "Requirement already satisfied: charset-normalizer<4,>=2 in /usr/local/lib/python3.10/dist-packages (from requests) (3.3.2)\n",
            "Requirement already satisfied: idna<4,>=2.5 in /usr/local/lib/python3.10/dist-packages (from requests) (3.6)\n",
            "Requirement already satisfied: urllib3<3,>=1.21.1 in /usr/local/lib/python3.10/dist-packages (from requests) (2.0.7)\n",
            "Requirement already satisfied: certifi>=2017.4.17 in /usr/local/lib/python3.10/dist-packages (from requests) (2023.11.17)\n"
          ]
        }
      ]
    },
    {
      "cell_type": "markdown",
      "source": [
        "Chargement des librairies"
      ],
      "metadata": {
        "id": "60Fo1zqjgHO3"
      }
    },
    {
      "cell_type": "code",
      "source": [
        "import pandas as pd\n",
        "import requests"
      ],
      "metadata": {
        "id": "XCTP__TlgJcP"
      },
      "execution_count": null,
      "outputs": []
    },
    {
      "cell_type": "markdown",
      "source": [
        "!!!Ajouter le dossier de sortie XxxxxxxxQR"
      ],
      "metadata": {
        "id": "3psGbI2TibMe"
      }
    },
    {
      "cell_type": "markdown",
      "source": [
        "Ajouter le dossier employees.csv dans la partie dossier\n",
        "Verification du CSV"
      ],
      "metadata": {
        "id": "qhIUtQnRgMUC"
      }
    },
    {
      "cell_type": "code",
      "source": [
        "all_employees = pd.read_csv(\"Xxxxxxxx.csv\", sep=',', encoding='latin-1')\n",
        "all_employees"
      ],
      "metadata": {
        "colab": {
          "base_uri": "https://localhost:8080/",
          "height": 112
        },
        "id": "fFa_n0HRgSe2",
        "outputId": "cf0a3146-6ffd-479b-b2cd-abf62dbd0bb7"
      },
      "execution_count": null,
      "outputs": [
        {
          "output_type": "execute_result",
          "data": {
            "text/plain": [
              "        Nom  Prénom                   Poste  Telephone                 Email  \\\n",
              "0   Bernard  Yohann             développeur  0621891221  yohannb512@gmail.com   \n",
              "1     Leduc  Lynda   Assistante commerciale  0621891221     Lynda555@hotmail.fr   \n",
              "\n",
              "    AdressXxxxxxxx  \n",
              "0  www.xxxxxxxx.fr  \n",
              "1  www.xxxxxxxx.fr  "
            ],
            "text/html": [
              "\n",
              "  <div id=\"df-a18ca93d-a593-47c4-ab0c-3b5ddfcc7e32\" class=\"colab-df-container\">\n",
              "    <div>\n",
              "<style scoped>\n",
              "    .dataframe tbody tr th:only-of-type {\n",
              "        vertical-align: middle;\n",
              "    }\n",
              "\n",
              "    .dataframe tbody tr th {\n",
              "        vertical-align: top;\n",
              "    }\n",
              "\n",
              "    .dataframe thead th {\n",
              "        text-align: right;\n",
              "    }\n",
              "</style>\n",
              "<table border=\"1\" class=\"dataframe\">\n",
              "  <thead>\n",
              "    <tr style=\"text-align: right;\">\n",
              "      <th></th>\n",
              "      <th>Nom</th>\n",
              "      <th>Prénom</th>\n",
              "      <th>Poste</th>\n",
              "      <th>Telephone</th>\n",
              "      <th>Email</th>\n",
              "      <th>AdressXxxxxxxx</th>\n",
              "    </tr>\n",
              "  </thead>\n",
              "  <tbody>\n",
              "    <tr>\n",
              "      <th>0</th>\n",
              "      <td>Bernard</td>\n",
              "      <td>Yohann</td>\n",
              "      <td>développeur</td>\n",
              "      <td>621891221</td>\n",
              "      <td>yohannb512@gmail.com</td>\n",
              "      <td>www.xxxxxxxx.fr</td>\n",
              "    </tr>\n",
              "    <tr>\n",
              "      <th>1</th>\n",
              "      <td>Largeaud</td>\n",
              "      <td>Lorrie</td>\n",
              "      <td>Assistante commerciale</td>\n",
              "      <td>621891221</td>\n",
              "      <td>Lorrie@hotmail.fr</td>\n",
              "      <td>www.xxxxxxxx.fr</td>\n",
              "    </tr>\n",
              "  </tbody>\n",
              "</table>\n",
              "</div>\n",
              "    <div class=\"colab-df-buttons\">\n",
              "\n",
              "  <div class=\"colab-df-container\">\n",
              "    <button class=\"colab-df-convert\" onclick=\"convertToInteractive('df-a18ca93d-a593-47c4-ab0c-3b5ddfcc7e32')\"\n",
              "            title=\"Convert this dataframe to an interactive table.\"\n",
              "            style=\"display:none;\">\n",
              "\n",
              "  <svg xmlns=\"http://www.w3.org/2000/svg\" height=\"24px\" viewBox=\"0 -960 960 960\">\n",
              "    <path d=\"M120-120v-720h720v720H120Zm60-500h600v-160H180v160Zm220 220h160v-160H400v160Zm0 220h160v-160H400v160ZM180-400h160v-160H180v160Zm440 0h160v-160H620v160ZM180-180h160v-160H180v160Zm440 0h160v-160H620v160Z\"/>\n",
              "  </svg>\n",
              "    </button>\n",
              "\n",
              "  <style>\n",
              "    .colab-df-container {\n",
              "      display:flex;\n",
              "      gap: 12px;\n",
              "    }\n",
              "\n",
              "    .colab-df-convert {\n",
              "      background-color: #E8F0FE;\n",
              "      border: none;\n",
              "      border-radius: 50%;\n",
              "      cursor: pointer;\n",
              "      display: none;\n",
              "      fill: #1967D2;\n",
              "      height: 32px;\n",
              "      padding: 0 0 0 0;\n",
              "      width: 32px;\n",
              "    }\n",
              "\n",
              "    .colab-df-convert:hover {\n",
              "      background-color: #E2EBFA;\n",
              "      box-shadow: 0px 1px 2px rgba(60, 64, 67, 0.3), 0px 1px 3px 1px rgba(60, 64, 67, 0.15);\n",
              "      fill: #174EA6;\n",
              "    }\n",
              "\n",
              "    .colab-df-buttons div {\n",
              "      margin-bottom: 4px;\n",
              "    }\n",
              "\n",
              "    [theme=dark] .colab-df-convert {\n",
              "      background-color: #3B4455;\n",
              "      fill: #D2E3FC;\n",
              "    }\n",
              "\n",
              "    [theme=dark] .colab-df-convert:hover {\n",
              "      background-color: #434B5C;\n",
              "      box-shadow: 0px 1px 3px 1px rgba(0, 0, 0, 0.15);\n",
              "      filter: drop-shadow(0px 1px 2px rgba(0, 0, 0, 0.3));\n",
              "      fill: #FFFFFF;\n",
              "    }\n",
              "  </style>\n",
              "\n",
              "    <script>\n",
              "      const buttonEl =\n",
              "        document.querySelector('#df-a18ca93d-a593-47c4-ab0c-3b5ddfcc7e32 button.colab-df-convert');\n",
              "      buttonEl.style.display =\n",
              "        google.colab.kernel.accessAllowed ? 'block' : 'none';\n",
              "\n",
              "      async function convertToInteractive(key) {\n",
              "        const element = document.querySelector('#df-a18ca93d-a593-47c4-ab0c-3b5ddfcc7e32');\n",
              "        const dataTable =\n",
              "          await google.colab.kernel.invokeFunction('convertToInteractive',\n",
              "                                                    [key], {});\n",
              "        if (!dataTable) return;\n",
              "\n",
              "        const docLinkHtml = 'Like what you see? Visit the ' +\n",
              "          '<a target=\"_blank\" href=https://colab.research.google.com/notebooks/data_table.ipynb>data table notebook</a>'\n",
              "          + ' to learn more about interactive tables.';\n",
              "        element.innerHTML = '';\n",
              "        dataTable['output_type'] = 'display_data';\n",
              "        await google.colab.output.renderOutput(dataTable, element);\n",
              "        const docLink = document.createElement('div');\n",
              "        docLink.innerHTML = docLinkHtml;\n",
              "        element.appendChild(docLink);\n",
              "      }\n",
              "    </script>\n",
              "  </div>\n",
              "\n",
              "\n",
              "<div id=\"df-8bceeff4-b505-46d8-9c8e-4998b7659160\">\n",
              "  <button class=\"colab-df-quickchart\" onclick=\"quickchart('df-8bceeff4-b505-46d8-9c8e-4998b7659160')\"\n",
              "            title=\"Suggest charts\"\n",
              "            style=\"display:none;\">\n",
              "\n",
              "<svg xmlns=\"http://www.w3.org/2000/svg\" height=\"24px\"viewBox=\"0 0 24 24\"\n",
              "     width=\"24px\">\n",
              "    <g>\n",
              "        <path d=\"M19 3H5c-1.1 0-2 .9-2 2v14c0 1.1.9 2 2 2h14c1.1 0 2-.9 2-2V5c0-1.1-.9-2-2-2zM9 17H7v-7h2v7zm4 0h-2V7h2v10zm4 0h-2v-4h2v4z\"/>\n",
              "    </g>\n",
              "</svg>\n",
              "  </button>\n",
              "\n",
              "<style>\n",
              "  .colab-df-quickchart {\n",
              "      --bg-color: #E8F0FE;\n",
              "      --fill-color: #1967D2;\n",
              "      --hover-bg-color: #E2EBFA;\n",
              "      --hover-fill-color: #174EA6;\n",
              "      --disabled-fill-color: #AAA;\n",
              "      --disabled-bg-color: #DDD;\n",
              "  }\n",
              "\n",
              "  [theme=dark] .colab-df-quickchart {\n",
              "      --bg-color: #3B4455;\n",
              "      --fill-color: #D2E3FC;\n",
              "      --hover-bg-color: #434B5C;\n",
              "      --hover-fill-color: #FFFFFF;\n",
              "      --disabled-bg-color: #3B4455;\n",
              "      --disabled-fill-color: #666;\n",
              "  }\n",
              "\n",
              "  .colab-df-quickchart {\n",
              "    background-color: var(--bg-color);\n",
              "    border: none;\n",
              "    border-radius: 50%;\n",
              "    cursor: pointer;\n",
              "    display: none;\n",
              "    fill: var(--fill-color);\n",
              "    height: 32px;\n",
              "    padding: 0;\n",
              "    width: 32px;\n",
              "  }\n",
              "\n",
              "  .colab-df-quickchart:hover {\n",
              "    background-color: var(--hover-bg-color);\n",
              "    box-shadow: 0 1px 2px rgba(60, 64, 67, 0.3), 0 1px 3px 1px rgba(60, 64, 67, 0.15);\n",
              "    fill: var(--button-hover-fill-color);\n",
              "  }\n",
              "\n",
              "  .colab-df-quickchart-complete:disabled,\n",
              "  .colab-df-quickchart-complete:disabled:hover {\n",
              "    background-color: var(--disabled-bg-color);\n",
              "    fill: var(--disabled-fill-color);\n",
              "    box-shadow: none;\n",
              "  }\n",
              "\n",
              "  .colab-df-spinner {\n",
              "    border: 2px solid var(--fill-color);\n",
              "    border-color: transparent;\n",
              "    border-bottom-color: var(--fill-color);\n",
              "    animation:\n",
              "      spin 1s steps(1) infinite;\n",
              "  }\n",
              "\n",
              "  @keyframes spin {\n",
              "    0% {\n",
              "      border-color: transparent;\n",
              "      border-bottom-color: var(--fill-color);\n",
              "      border-left-color: var(--fill-color);\n",
              "    }\n",
              "    20% {\n",
              "      border-color: transparent;\n",
              "      border-left-color: var(--fill-color);\n",
              "      border-top-color: var(--fill-color);\n",
              "    }\n",
              "    30% {\n",
              "      border-color: transparent;\n",
              "      border-left-color: var(--fill-color);\n",
              "      border-top-color: var(--fill-color);\n",
              "      border-right-color: var(--fill-color);\n",
              "    }\n",
              "    40% {\n",
              "      border-color: transparent;\n",
              "      border-right-color: var(--fill-color);\n",
              "      border-top-color: var(--fill-color);\n",
              "    }\n",
              "    60% {\n",
              "      border-color: transparent;\n",
              "      border-right-color: var(--fill-color);\n",
              "    }\n",
              "    80% {\n",
              "      border-color: transparent;\n",
              "      border-right-color: var(--fill-color);\n",
              "      border-bottom-color: var(--fill-color);\n",
              "    }\n",
              "    90% {\n",
              "      border-color: transparent;\n",
              "      border-bottom-color: var(--fill-color);\n",
              "    }\n",
              "  }\n",
              "</style>\n",
              "\n",
              "  <script>\n",
              "    async function quickchart(key) {\n",
              "      const quickchartButtonEl =\n",
              "        document.querySelector('#' + key + ' button');\n",
              "      quickchartButtonEl.disabled = true;  // To prevent multiple clicks.\n",
              "      quickchartButtonEl.classList.add('colab-df-spinner');\n",
              "      try {\n",
              "        const charts = await google.colab.kernel.invokeFunction(\n",
              "            'suggestCharts', [key], {});\n",
              "      } catch (error) {\n",
              "        console.error('Error during call to suggestCharts:', error);\n",
              "      }\n",
              "      quickchartButtonEl.classList.remove('colab-df-spinner');\n",
              "      quickchartButtonEl.classList.add('colab-df-quickchart-complete');\n",
              "    }\n",
              "    (() => {\n",
              "      let quickchartButtonEl =\n",
              "        document.querySelector('#df-8bceeff4-b505-46d8-9c8e-4998b7659160 button');\n",
              "      quickchartButtonEl.style.display =\n",
              "        google.colab.kernel.accessAllowed ? 'block' : 'none';\n",
              "    })();\n",
              "  </script>\n",
              "</div>\n",
              "    </div>\n",
              "  </div>\n"
            ]
          },
          "metadata": {},
          "execution_count": 9
        }
      ]
    },
    {
      "cell_type": "markdown",
      "source": [
        "Bouclage pour chaque element de la liste"
      ],
      "metadata": {
        "id": "PVtkkFaXgjtK"
      }
    },
    {
      "cell_type": "code",
      "source": [
        "# On charge le dossier avec Pandas\n",
        "df = pd.DataFrame(all_employees)\n",
        "# On creer la variable de sortie\n",
        "output = []\n",
        "# Pour chaque ligne:\n",
        "for index, row in df.iterrows():\n",
        "    # On ajoute la ligne retravaillée au dossier de sortie\n",
        "    output.append((row['Nom'], row['Prénom'], row['Poste'], str(0)+str(row['Telephone']), row['Email'], row['AdressXxxxxxxx']))\n",
        "print(\"Le dossier de sortie contient: \"+str(len(output)))\n",
        "# variables fixes pour la requéte:\n",
        "clef = \"XXXXXXXXXXXXXXXXXXXXXXXXXXXXXXXXXXXXXXXXXXXXXXXXXXXXXX",
        "url = \"https://api.qr-code-generator.com/v1/create?access-token=\"+clef\n",
        "rank = 0\n",
        "# pour chaque employé\n",
        "for employe in output:\n",
        "  print(\"boucle n°\"+str(rank+1)+\" contenant: \"+str(employe))\n",
        "  # adaptation du corps de la requete\n",
        "  corp = {\n",
        "      \"frame_name\": \"no-frame\",\n",
        "      \"qr_code_text\": str(employe[1])+\" \"+str(employe[0])+\"\\n\"+str(employe[2])+\"\\n\"+str(employe[3])+\"\\n\"+str(employe[4])+\"\\n\"+str(employe[5]),\n",
        "      \"image_format\": \"SVG\",\n",
        "      \"qr_code_logo\": \"scan-me-square\"}\n",
        "  rank += 1\n",
        "  print(\"Requéte n°\"+str(rank))\n",
        "  # envoi de la requete\n",
        "  reponse = requests.post(url, corp)\n",
        "  # creation du fichier (prénom-nom.svg)\n",
        "  fichier = open(\"XxxxxxxxQR/\"+employe[1]+\"-\"+employe[0]+\".svg\", \"a\")\n",
        "  # enregistrement du fichier dans le dossier\n",
        "  fichier.write(reponse.text)\n",
        "  #fermeture du fichier\n",
        "  fichier.close()\n",
        "#signal de fin\n",
        "print(\" **********************\")\n",
        "print(\"*                      *\")\n",
        "print(\"*   Traitement finit   *\")\n",
        "print(\"*                      *\")\n",
        "print(\" **********************\")\n",
        "print(\"Toutes les données employées sont converties en QR codes\")\n",
        "print(\"il y a \"+str(rank)+\" employées\")\n"
      ],
      "metadata": {
        "colab": {
          "base_uri": "https://localhost:8080/"
        },
        "id": "t-rLIMUWguui",
        "outputId": "d7ad258b-2972-483d-94f8-acc42cdd3b64"
      },
      "execution_count": null,
      "outputs": [
        {
          "output_type": "stream",
          "name": "stdout",
          "text": [
            "Le dossier de sortie contient: 2\n",
            "boucle n°1 contenant: ('Bernard', 'Yohann', 'développeur', '0621891221', 'yohannb512@gmail.com', 'www.xxxxxxxx.fr')\n",
            "Requéte n°1\n",
            "boucle n°2 contenant: ('Largeaud', 'Lorrie', 'Assistante commerciale', '0621891221', 'Lorrie@hotmail.fr', 'www.xxxxxxxx.fr')\n",
            "Requéte n°2\n",
            " **********************\n",
            "*                      *\n",
            "*   Traitement finit   *\n",
            "*                      *\n",
            " **********************\n",
            "Toutes les données employées sont converties en QR codes\n",
            "il y a 2 employées\n"
          ]
        }
      ]
    }
  ]
}
